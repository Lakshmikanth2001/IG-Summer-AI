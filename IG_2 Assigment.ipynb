{
 "cells": [
  {
   "cell_type": "code",
   "execution_count": 1,
   "metadata": {},
   "outputs": [],
   "source": [
    "## Import stuff\n",
    "import numpy as np\n",
    "import matplotlib.pyplot as plt\n",
    "from sklearn import datasets, linear_model, metrics"
   ]
  },
  {
   "cell_type": "code",
   "execution_count": 2,
   "metadata": {},
   "outputs": [],
   "source": [
    "## Load the diabetes dataset\n",
    "diabetes = datasets.load_diabetes()\n",
    "diabetes_X = diabetes.data # matrix of dimensions 442x10\n",
    " \n",
    "# Split the data into training/testing sets\n",
    "diabetes_X_train = diabetes_X[:-20]\n",
    "diabetes_X_test = diabetes_X[-20:]\n",
    " \n",
    "# Split the targets into training/testing sets\n",
    "diabetes_y_train = diabetes.target[:-20]\n",
    "diabetes_y_test = diabetes.target[-20:]"
   ]
  },
  {
   "cell_type": "code",
   "execution_count": 6,
   "metadata": {
    "scrolled": false
   },
   "outputs": [
    {
     "output_type": "stream",
     "name": "stdout",
     "text": "mean_squared_error: 1444.0710319174186\nmean_squared_error: 104.17234019148405\nmean_squared_error: 166.12757272574873\nmean_squared_error: 197.93699711882365\nmean_squared_error: 208.61827549128068\nmean_squared_error: 211.2677388313457\nmean_squared_error: 211.32979751774533\nmean_squared_error: 210.73437645600177\nmean_squared_error: 210.08634269907597\nmean_squared_error: 209.53301114416755\n"
    }
   ],
   "source": [
    "# train\n",
    "X = diabetes_X_train\n",
    "y = diabetes_y_train\n",
    "y=y.reshape((-1,1))\n",
    "# train: init\n",
    "W = np.random.uniform(0,1,(np.size(X,1),1))\n",
    "b = np.array(np.random.rand())\n",
    "b=  b.reshape(1,1)\n",
    " \n",
    "learning_rate = 0.01\n",
    "epochs = 1000\n",
    " \n",
    "# train: gradient descent\n",
    "for i in range(epochs):\n",
    "    # calculate predictions\n",
    "    #implementing stocasticated gradient descent\n",
    "    for j in range(np.size(X,0)):\n",
    "        X_new=X[j,:].reshape((1,-1))\n",
    "        y_predict=np.matmul(X_new,W)+b\n",
    "\n",
    "        # calculate error and cost (mean squared error)\n",
    "        mean_squared_error=np.sum(pow((y_predict-y[j]),2)/(2))\n",
    "\n",
    "        # calculate gradients\n",
    "        error=(y_predict-y[j])/(1)\n",
    "        G=np.matmul(np.transpose(X_new),error)\n",
    "\n",
    "        # update parameters\n",
    "        W=W-(learning_rate)*G\n",
    "        b=b-(learning_rate)*np.sum(error)\n",
    "        # diagnostic output\n",
    "    if i%100==0:\n",
    "        print('mean_squared_error:',mean_squared_error)"
   ]
  },
  {
   "cell_type": "code",
   "execution_count": 7,
   "metadata": {},
   "outputs": [
    {
     "output_type": "execute_result",
     "data": {
      "text/plain": "array([[153.92128479]])"
     },
     "metadata": {},
     "execution_count": 7
    }
   ],
   "source": [
    "b"
   ]
  },
  {
   "cell_type": "code",
   "execution_count": 9,
   "metadata": {},
   "outputs": [
    {
     "output_type": "stream",
     "name": "stdout",
     "text": "Coefficients: \n [[   6.35284802]\n [-234.87385403]\n [ 514.57073589]\n [ 327.24266279]\n [ -98.52034624]\n [ -88.57724111]\n [-202.12182322]\n [ 117.69446459]\n [ 469.34156367]\n [  82.4704031 ]]\nMean squared error: 80610.17\n========================================================================================================================\n"
    }
   ],
   "source": [
    "# test\n",
    "X = diabetes_X_test\n",
    "y = diabetes_y_test\n",
    " \n",
    "# calculate predictions + calculate error and cost (same code as above)\n",
    "y_predict=np.matmul(X,W)+b\n",
    "mean_squared_error=(np.sum((y_predict-y)**2)/(2*np.size(y,0)))\n",
    "print('Coefficients: \\n', W)\n",
    "print(\"Mean squared error: %.2f\" % mean_squared_error)\n",
    "print(\"=\"*120)"
   ]
  },
  {
   "cell_type": "code",
   "execution_count": 259,
   "metadata": {},
   "outputs": [
    {
     "data": {
      "image/png": "[encoded data removed]",
      "text/plain": [
       "<Figure size 432x288 with 9 Axes>"
      ]
     },
     "metadata": {
      "needs_background": "light"
     },
     "output_type": "display_data"
    }
   ],
   "source": [
    "fig,axs=plt.subplots(3,3)\n",
    "k=0\n",
    "for i in range(3):\n",
    "    for j in range(3):\n",
    "        axs[i,j].scatter(X[:,k],y_predict)\n",
    "        axs[i,j].scatter(X[:,k],y)\n",
    "fig.tight_layout()"
   ]
  },
  {
   "cell_type": "code",
   "execution_count": null,
   "metadata": {},
   "outputs": [],
   "source": []
  }
 ],
 "metadata": {
  "kernelspec": {
   "display_name": "Python 3",
   "language": "python",
   "name": "python3"
  },
  "language_info": {
   "codemirror_mode": {
    "name": "ipython",
    "version": 3
   },
   "file_extension": ".py",
   "mimetype": "text/x-python",
   "name": "python",
   "nbconvert_exporter": "python",
   "pygments_lexer": "ipython3",
   "version": "3.6.7-final"
  }
 },
 "nbformat": 4,
 "nbformat_minor": 2
}