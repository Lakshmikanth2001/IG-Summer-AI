{
 "cells": [
  {
   "cell_type": "code",
   "execution_count": 1,
   "metadata": {},
   "outputs": [],
   "source": [
    "# import Numpy and Pandas\n",
    "import numpy as np\n",
    "import pandas as pd\n",
    "\n",
    "# for reading and displaying images, import imread and matplotlilb\n",
    "import matplotlib.pyplot as plt\n",
    "\n",
    "# for creating validation set, import train_test_split; understand how the function works\n",
    "from sklearn.model_selection import train_test_split\n",
    "\n",
    "# for evaluating the model, import accuracy_score from sklearn\n",
    "from sklearn.metrics import accuracy_score\n",
    "\n",
    "# Import necessary PyTorch libraries and modules\n",
    "import torch\n",
    "import torchvision\n",
    "import torch.nn as nn\n",
    "from torch.utils.data import DataLoader \n",
    "import torchvision.transforms as transforms\n",
    "\n",
    "\n",
    "DATA_PATH = 'C:\\\\Users\\\\intel\\\\Desktop\\\\IG_AI'\n",
    "MODEL_STORE_PATH = 'C:\\\\Users\\\\intel\\\\Desktop\\\\IG_AI'\n",
    "\n",
    "\n",
    "# Import dataset from pytorch vision - Fashion MNIST\n",
    "# transforms to apply to the data\n",
    "trans = transforms.Compose([transforms.ToTensor(), transforms.Normalize((0,),(1,))])\n",
    "\n",
    "# MNIST dataset\n",
    "train_dataset = torchvision.datasets.MNIST(root=DATA_PATH, train=True, transform=trans, download=True)\n",
    "test_dataset = torchvision.datasets.MNIST(root=DATA_PATH, train=False, transform=trans)\n"
   ]
  },
  {
   "cell_type": "code",
   "execution_count": 2,
   "metadata": {},
   "outputs": [],
   "source": [
    "# load dataset and use dataloader to send the data in batches.\n",
    "batch_size = 100\n",
    "alpha = 0.001\n",
    "epochs = 6\n",
    "train_loader = DataLoader(dataset=train_dataset, batch_size=batch_size, shuffle=True)\n",
    "test_loader = DataLoader(dataset=test_dataset, batch_size=batch_size, shuffle=False)\n",
    "# Convert data to tensor and normalise it"
   ]
  },
  {
   "cell_type": "code",
   "execution_count": 3,
   "metadata": {
    "tags": [
     "outputPrepend",
     "outputPrepend",
     "outputPrepend",
     "outputPrepend",
     "outputPrepend",
     "outputPrepend",
     "outputPrepend",
     "outputPrepend",
     "outputPrepend",
     "outputPrepend",
     "outputPrepend",
     "outputPrepend",
     "outputPrepend",
     "outputPrepend",
     "outputPrepend",
     "outputPrepend",
     "outputPrepend",
     "outputPrepend",
     "outputPrepend",
     "outputPrepend",
     "outputPrepend",
     "outputPrepend",
     "outputPrepend",
     "outputPrepend",
     "outputPrepend",
     "outputPrepend",
     "outputPrepend",
     "outputPrepend",
     "outputPrepend",
     "outputPrepend",
     "outputPrepend",
     "outputPrepend",
     "outputPrepend",
     "outputPrepend",
     "outputPrepend",
     "outputPrepend",
     "outputPrepend",
     "outputPrepend",
     "outputPrepend",
     "outputPrepend",
     "outputPrepend",
     "outputPrepend",
     "outputPrepend",
     "outputPrepend",
     "outputPrepend",
     "outputPrepend",
     "outputPrepend",
     "outputPrepend",
     "outputPrepend",
     "outputPrepend",
     "outputPrepend",
     "outputPrepend",
     "outputPrepend",
     "outputPrepend",
     "outputPrepend",
     "outputPrepend",
     "outputPrepend",
     "outputPrepend",
     "outputPrepend",
     "outputPrepend",
     "outputPrepend",
     "outputPrepend",
     "outputPrepend",
     "outputPrepend",
     "outputPrepend",
     "outputPrepend",
     "outputPrepend",
     "outputPrepend",
     "outputPrepend",
     "outputPrepend",
     "outputPrepend",
     "outputPrepend",
     "outputPrepend",
     "outputPrepend",
     "outputPrepend",
     "outputPrepend",
     "outputPrepend"
    ]
   },
   "outputs": [
    {
     "output_type": "display_data",
     "data": {
      "text/plain": "<Figure size 432x288 with 1 Axes>",
      "image/svg+xml": "<?xml version=\"1.0\" encoding=\"utf-8\" standalone=\"no\"?>\r\n<!DOCTYPE svg PUBLIC \"-//W3C//DTD SVG 1.1//EN\"\r\n  \"http://www.w3.org/Graphics/SVG/1.1/DTD/svg11.dtd\">\r\n<!-- Created with matplotlib (https://matplotlib.org/) -->\r\n<svg height=\"248.518125pt\" version=\"1.1\" viewBox=\"0 0 251.565 248.518125\" width=\"251.565pt\" xmlns=\"http://www.w3.org/2000/svg\" xmlns:xlink=\"http://www.w3.org/1999/xlink\">\r\n <defs>\r\n  <style type=\"text/css\">\r\n*{stroke-linecap:butt;stroke-linejoin:round;}\r\n  </style>\r\n </defs>\r\n <g id=\"figure_1\">\r\n  <g id=\"patch_1\">\r\n   <path d=\"M 0 248.518125 \r\nL 251.565 248.518125 \r\nL 251.565 0 \r\nL 0 0 \r\nz\r\n\" style=\"fill:none;\"/>\r\n  </g>\r\n  <g id=\"axes_1\">\r\n   <g id=\"patch_2\">\r\n    <path d=\"M 26.925 224.64 \r\nL 244.365 224.64 \r\nL 244.365 7.2 \r\nL 26.925 7.2 \r\nz\r\n\" style=\"fill:#ffffff;\"/>\r\n   </g>\r\n   <g clip-path=\"url(#pb5317f1786)\">\r\n    <image height=\"218\" id=\"image12c8e580d6\" transform=\"scale(1 -1)translate(0 -218)\" width=\"218\" x=\"26.925\" xlink:href=\"data:image/png;base64,\r\niVBORw0KGgoAAAANSUhEUgAAANoAAADaCAYAAADAHVzbAAAABHNCSVQICAgIfAhkiAAABtlJREFUeJzt3W2o1ncdx/HrHG3neMy7Gms0W86wVHBbxgrXDSZGWbFq2MgxW9AakRU0kIhuwCAWBU3KQYRBK5pzEa2FQvjAbmhGjbUgcwpOh2trQ9NwHO/OTY+kJ17f4znXdX2uc46v19Ov/+v/4xze/uD8uP7/nrU960cbQEf1dnsBcCUQGgQIDQKEBgFCgwChQYDQIEBoECA0CBAaBAgNAoQGAUKDAKFBgNAgQGgQIDQIEBoECA0ChAYBQoMAoUGA0CBAaBAgNAgQGgQIDQKEBgFCgwChQcDMbi+gW2YsWFDOX9ywrJy/cn39tqt/btw27jVdtOx395TzOX+aNeHPbjQajfmHzzedXfXbJ1v6bC7NjgYBQoMAoUGA0CBAaBAgNAgQGgT0rO1ZXx8ITVGnNq4q5zd89mA5/9miPe1czqSya3Be09nWL24orx148mibV/N/wyf+U/+DkeGO3bvT7GgQIDQIEBoECA0ChAYBQoMAoUHAlD5H6x0YaDp7eefC8to/r9zR7uXQomUPf76c953sKefXb326nI8MDo57Te1iR4MAoUGA0CBAaBAgNAgQGgQIDQIm9XMdx3r24qEH39h0dmDlj9u9nHHZf36o6ezQhWta+uyPzD5eznun6P+fB+6c+LMwG41GY/m8+hxu8Zf3tfT5rZiavxGYYoQGAUKDAKFBgNAgQGgQMKn/vH/hxkXl/Gsrd2UWcglL99avVnrDjuY/2r5df23p3l95oH4k3OiMiX/z6dsfeKScf2z2GI+E66KBF+qv0XSTHQ0ChAYBQoMAoUGA0CBAaBAgNAiY0o+ba7x9RdPRpp//srx03cDplm694dn3l/Mzd81qOht67lhL9+6kGcvfXM6H5/aX8zNb6p/re689NO41Xa7nz9Rfqzr8zWXlvG93a+ebFTsaBAgNAoQGAUKDAKFBgNAgQGgQMLXP0QrHvnprOf/7537Q0fvffXRt09mp2+rvTQ2fmLzf+WJi7GgQIDQIEBoECA0ChAYBQoMAoUHAtD1HmzF/Xjm/sGJxOf/U9sfL+R2vfnnca7po49H3lfPTG+eW86Fnj0743nSHHQ0ChAYBQoMAoUGA0CBAaBAwbf+836rD311Vzg/cua1j97732Opy/pdfN3/MXqPRaCy8/4k2roZ2sKNBgNAgQGgQIDQIEBoECA0ChAYBztGa6OnrK+ejN9WvN7rjoT1NZ5+c+68Jremic6MXyvnpkaEJf/bqhzaX80Vf3zfhz76S2dEgQGgQIDQIEBoECA0ChAYBQoMA52gdMvKum5vOjny0v7z26U9sLed9Pa+a0Joux/HhM+X89v13l/P5m+u1jfzjmXGvaTqwo0GA0CBAaBAgNAgQGgQIDQKEBgHO0SahF++7tZw/cd/3ynknz9nGsnTnpnK++Ffnms56//i3di9n0rCjQYDQIEBoECA0CBAaBAgNAoQGAc7RpqDB299Rzvs3vVDOdy99rJ3LGZcdp1/XdLZz3TvLa4eOPNfu5cTY0SBAaBAgNAgQGgQIDQKEBgH+vD8NjfXKqYPfv7Hp7IE1O8prPzTw3wmt6XLcvO0L5Xzh/U907N6dZkeDAKFBgNAgQGgQIDQIEBoECA0Cpu052sxrm38do9FoNEaHhsr5yA2vL+e9g+fL+fD+g+V8sjq37pZyvmf7Dzt27+eH6ldGrf/W5nJ+9Y/2tXM5bWVHgwChQYDQIEBoECA0CBAaBAgNAmZ2ewGdcuTTbyrnr3n3v8v53hU/Ked/OHtVOb/3N59pOnvLlvqMbfjkyXLeSS/d0r1XPi2cOaucn726J7SS9rOjQYDQIEBoECA0CBAaBAgNAoQGAdP2HG0se1f8oqXr39Nffx/tmY8/2HT2+AcXlNeeHe3eWdaaWd8Z41/UZ11cmh0NAoQGAUKDAKFBgNAgQGgQIDQImLbnaNf9frCc39So38V13Zpj5Xz30sfGvaaLbpvdve+bja1752TLHtlUzheP8TudzOxoECA0CBAaBAgNAoQGAUKDgGn72qZW9c6ZU84vvG1JOZ/5jZeazn665NHy2gW9/eW8mx595ZpyvuWpD5fzJV9q/pi/4eMnymvHetXWZGZHgwChQYDQIEBoECA0CBAaBAgNApyjdcGJe1aV8+H++vVEp95aP+ruyLrt5fyuo6ubzvY/vLy89rX7z5bzGXufKudXKjsaBAgNAoQGAUKDAKFBgNAgQGgQ4BwNAuxoECA0CBAaBAgNAoQGAUKDAKFBgNAgQGgQIDQIEBoECA0ChAYBQoMAoUGA0CBAaBAgNAgQGgQIDQKEBgFCgwChQYDQIEBoECA0CBAaBAgNAoQGAUKDgP8B21AG+yruh5QAAAAASUVORK5CYII=\" y=\"-6.64\"/>\r\n   </g>\r\n   <g id=\"matplotlib.axis_1\">\r\n    <g id=\"xtick_1\">\r\n     <g id=\"line2d_1\">\r\n      <defs>\r\n       <path d=\"M 0 0 \r\nL 0 3.5 \r\n\" id=\"m3423276d0a\" style=\"stroke:#000000;stroke-width:0.8;\"/>\r\n      </defs>\r\n      <g>\r\n       <use style=\"stroke:#000000;stroke-width:0.8;\" x=\"30.807857\" xlink:href=\"#m3423276d0a\" y=\"224.64\"/>\r\n      </g>\r\n     </g>\r\n     <g id=\"text_1\">\r\n      <!-- 0 -->\r\n      <defs>\r\n       <path d=\"M 31.78125 66.40625 \r\nQ 24.171875 66.40625 20.328125 58.90625 \r\nQ 16.5 51.421875 16.5 36.375 \r\nQ 16.5 21.390625 20.328125 13.890625 \r\nQ 24.171875 6.390625 31.78125 6.390625 \r\nQ 39.453125 6.390625 43.28125 13.890625 \r\nQ 47.125 21.390625 47.125 36.375 \r\nQ 47.125 51.421875 43.28125 58.90625 \r\nQ 39.453125 66.40625 31.78125 66.40625 \r\nz\r\nM 31.78125 74.21875 \r\nQ 44.046875 74.21875 50.515625 64.515625 \r\nQ 56.984375 54.828125 56.984375 36.375 \r\nQ 56.984375 17.96875 50.515625 8.265625 \r\nQ 44.046875 -1.421875 31.78125 -1.421875 \r\nQ 19.53125 -1.421875 13.0625 8.265625 \r\nQ 6.59375 17.96875 6.59375 36.375 \r\nQ 6.59375 54.828125 13.0625 64.515625 \r\nQ 19.53125 74.21875 31.78125 74.21875 \r\nz\r\n\" id=\"DejaVuSans-48\"/>\r\n      </defs>\r\n      <g transform=\"translate(27.626607 239.238437)scale(0.1 -0.1)\">\r\n       <use xlink:href=\"#DejaVuSans-48\"/>\r\n      </g>\r\n     </g>\r\n    </g>\r\n    <g id=\"xtick_2\">\r\n     <g id=\"line2d_2\">\r\n      <g>\r\n       <use style=\"stroke:#000000;stroke-width:0.8;\" x=\"69.636429\" xlink:href=\"#m3423276d0a\" y=\"224.64\"/>\r\n      </g>\r\n     </g>\r\n     <g id=\"text_2\">\r\n      <!-- 5 -->\r\n      <defs>\r\n       <path d=\"M 10.796875 72.90625 \r\nL 49.515625 72.90625 \r\nL 49.515625 64.59375 \r\nL 19.828125 64.59375 \r\nL 19.828125 46.734375 \r\nQ 21.96875 47.46875 24.109375 47.828125 \r\nQ 26.265625 48.1875 28.421875 48.1875 \r\nQ 40.625 48.1875 47.75 41.5 \r\nQ 54.890625 34.8125 54.890625 23.390625 \r\nQ 54.890625 11.625 47.5625 5.09375 \r\nQ 40.234375 -1.421875 26.90625 -1.421875 \r\nQ 22.3125 -1.421875 17.546875 -0.640625 \r\nQ 12.796875 0.140625 7.71875 1.703125 \r\nL 7.71875 11.625 \r\nQ 12.109375 9.234375 16.796875 8.0625 \r\nQ 21.484375 6.890625 26.703125 6.890625 \r\nQ 35.15625 6.890625 40.078125 11.328125 \r\nQ 45.015625 15.765625 45.015625 23.390625 \r\nQ 45.015625 31 40.078125 35.4375 \r\nQ 35.15625 39.890625 26.703125 39.890625 \r\nQ 22.75 39.890625 18.8125 39.015625 \r\nQ 14.890625 38.140625 10.796875 36.28125 \r\nz\r\n\" id=\"DejaVuSans-53\"/>\r\n      </defs>\r\n      <g transform=\"translate(66.455179 239.238437)scale(0.1 -0.1)\">\r\n       <use xlink:href=\"#DejaVuSans-53\"/>\r\n      </g>\r\n     </g>\r\n    </g>\r\n    <g id=\"xtick_3\">\r\n     <g id=\"line2d_3\">\r\n      <g>\r\n       <use style=\"stroke:#000000;stroke-width:0.8;\" x=\"108.465\" xlink:href=\"#m3423276d0a\" y=\"224.64\"/>\r\n      </g>\r\n     </g>\r\n     <g id=\"text_3\">\r\n      <!-- 10 -->\r\n      <defs>\r\n       <path d=\"M 12.40625 8.296875 \r\nL 28.515625 8.296875 \r\nL 28.515625 63.921875 \r\nL 10.984375 60.40625 \r\nL 10.984375 69.390625 \r\nL 28.421875 72.90625 \r\nL 38.28125 72.90625 \r\nL 38.28125 8.296875 \r\nL 54.390625 8.296875 \r\nL 54.390625 0 \r\nL 12.40625 0 \r\nz\r\n\" id=\"DejaVuSans-49\"/>\r\n      </defs>\r\n      <g transform=\"translate(102.1025 239.238437)scale(0.1 -0.1)\">\r\n       <use xlink:href=\"#DejaVuSans-49\"/>\r\n       <use x=\"63.623047\" xlink:href=\"#DejaVuSans-48\"/>\r\n      </g>\r\n     </g>\r\n    </g>\r\n    <g id=\"xtick_4\">\r\n     <g id=\"line2d_4\">\r\n      <g>\r\n       <use style=\"stroke:#000000;stroke-width:0.8;\" x=\"147.293571\" xlink:href=\"#m3423276d0a\" y=\"224.64\"/>\r\n      </g>\r\n     </g>\r\n     <g id=\"text_4\">\r\n      <!-- 15 -->\r\n      <g transform=\"translate(140.931071 239.238437)scale(0.1 -0.1)\">\r\n       <use xlink:href=\"#DejaVuSans-49\"/>\r\n       <use x=\"63.623047\" xlink:href=\"#DejaVuSans-53\"/>\r\n      </g>\r\n     </g>\r\n    </g>\r\n    <g id=\"xtick_5\">\r\n     <g id=\"line2d_5\">\r\n      <g>\r\n       <use style=\"stroke:#000000;stroke-width:0.8;\" x=\"186.122143\" xlink:href=\"#m3423276d0a\" y=\"224.64\"/>\r\n      </g>\r\n     </g>\r\n     <g id=\"text_5\">\r\n      <!-- 20 -->\r\n      <defs>\r\n       <path d=\"M 19.1875 8.296875 \r\nL 53.609375 8.296875 \r\nL 53.609375 0 \r\nL 7.328125 0 \r\nL 7.328125 8.296875 \r\nQ 12.9375 14.109375 22.625 23.890625 \r\nQ 32.328125 33.6875 34.8125 36.53125 \r\nQ 39.546875 41.84375 41.421875 45.53125 \r\nQ 43.3125 49.21875 43.3125 52.78125 \r\nQ 43.3125 58.59375 39.234375 62.25 \r\nQ 35.15625 65.921875 28.609375 65.921875 \r\nQ 23.96875 65.921875 18.8125 64.3125 \r\nQ 13.671875 62.703125 7.8125 59.421875 \r\nL 7.8125 69.390625 \r\nQ 13.765625 71.78125 18.9375 73 \r\nQ 24.125 74.21875 28.421875 74.21875 \r\nQ 39.75 74.21875 46.484375 68.546875 \r\nQ 53.21875 62.890625 53.21875 53.421875 \r\nQ 53.21875 48.921875 51.53125 44.890625 \r\nQ 49.859375 40.875 45.40625 35.40625 \r\nQ 44.1875 33.984375 37.640625 27.21875 \r\nQ 31.109375 20.453125 19.1875 8.296875 \r\nz\r\n\" id=\"DejaVuSans-50\"/>\r\n      </defs>\r\n      <g transform=\"translate(179.759643 239.238437)scale(0.1 -0.1)\">\r\n       <use xlink:href=\"#DejaVuSans-50\"/>\r\n       <use x=\"63.623047\" xlink:href=\"#DejaVuSans-48\"/>\r\n      </g>\r\n     </g>\r\n    </g>\r\n    <g id=\"xtick_6\">\r\n     <g id=\"line2d_6\">\r\n      <g>\r\n       <use style=\"stroke:#000000;stroke-width:0.8;\" x=\"224.950714\" xlink:href=\"#m3423276d0a\" y=\"224.64\"/>\r\n      </g>\r\n     </g>\r\n     <g id=\"text_6\">\r\n      <!-- 25 -->\r\n      <g transform=\"translate(218.588214 239.238437)scale(0.1 -0.1)\">\r\n       <use xlink:href=\"#DejaVuSans-50\"/>\r\n       <use x=\"63.623047\" xlink:href=\"#DejaVuSans-53\"/>\r\n      </g>\r\n     </g>\r\n    </g>\r\n   </g>\r\n   <g id=\"matplotlib.axis_2\">\r\n    <g id=\"ytick_1\">\r\n     <g id=\"line2d_7\">\r\n      <defs>\r\n       <path d=\"M 0 0 \r\nL -3.5 0 \r\n\" id=\"mc5f6909c95\" style=\"stroke:#000000;stroke-width:0.8;\"/>\r\n      </defs>\r\n      <g>\r\n       <use style=\"stroke:#000000;stroke-width:0.8;\" x=\"26.925\" xlink:href=\"#mc5f6909c95\" y=\"11.082857\"/>\r\n      </g>\r\n     </g>\r\n     <g id=\"text_7\">\r\n      <!-- 0 -->\r\n      <g transform=\"translate(13.5625 14.882076)scale(0.1 -0.1)\">\r\n       <use xlink:href=\"#DejaVuSans-48\"/>\r\n      </g>\r\n     </g>\r\n    </g>\r\n    <g id=\"ytick_2\">\r\n     <g id=\"line2d_8\">\r\n      <g>\r\n       <use style=\"stroke:#000000;stroke-width:0.8;\" x=\"26.925\" xlink:href=\"#mc5f6909c95\" y=\"49.911429\"/>\r\n      </g>\r\n     </g>\r\n     <g id=\"text_8\">\r\n      <!-- 5 -->\r\n      <g transform=\"translate(13.5625 53.710647)scale(0.1 -0.1)\">\r\n       <use xlink:href=\"#DejaVuSans-53\"/>\r\n      </g>\r\n     </g>\r\n    </g>\r\n    <g id=\"ytick_3\">\r\n     <g id=\"line2d_9\">\r\n      <g>\r\n       <use style=\"stroke:#000000;stroke-width:0.8;\" x=\"26.925\" xlink:href=\"#mc5f6909c95\" y=\"88.74\"/>\r\n      </g>\r\n     </g>\r\n     <g id=\"text_9\">\r\n      <!-- 10 -->\r\n      <g transform=\"translate(7.2 92.539219)scale(0.1 -0.1)\">\r\n       <use xlink:href=\"#DejaVuSans-49\"/>\r\n       <use x=\"63.623047\" xlink:href=\"#DejaVuSans-48\"/>\r\n      </g>\r\n     </g>\r\n    </g>\r\n    <g id=\"ytick_4\">\r\n     <g id=\"line2d_10\">\r\n      <g>\r\n       <use style=\"stroke:#000000;stroke-width:0.8;\" x=\"26.925\" xlink:href=\"#mc5f6909c95\" y=\"127.568571\"/>\r\n      </g>\r\n     </g>\r\n     <g id=\"text_10\">\r\n      <!-- 15 -->\r\n      <g transform=\"translate(7.2 131.36779)scale(0.1 -0.1)\">\r\n       <use xlink:href=\"#DejaVuSans-49\"/>\r\n       <use x=\"63.623047\" xlink:href=\"#DejaVuSans-53\"/>\r\n      </g>\r\n     </g>\r\n    </g>\r\n    <g id=\"ytick_5\">\r\n     <g id=\"line2d_11\">\r\n      <g>\r\n       <use style=\"stroke:#000000;stroke-width:0.8;\" x=\"26.925\" xlink:href=\"#mc5f6909c95\" y=\"166.397143\"/>\r\n      </g>\r\n     </g>\r\n     <g id=\"text_11\">\r\n      <!-- 20 -->\r\n      <g transform=\"translate(7.2 170.196362)scale(0.1 -0.1)\">\r\n       <use xlink:href=\"#DejaVuSans-50\"/>\r\n       <use x=\"63.623047\" xlink:href=\"#DejaVuSans-48\"/>\r\n      </g>\r\n     </g>\r\n    </g>\r\n    <g id=\"ytick_6\">\r\n     <g id=\"line2d_12\">\r\n      <g>\r\n       <use style=\"stroke:#000000;stroke-width:0.8;\" x=\"26.925\" xlink:href=\"#mc5f6909c95\" y=\"205.225714\"/>\r\n      </g>\r\n     </g>\r\n     <g id=\"text_12\">\r\n      <!-- 25 -->\r\n      <g transform=\"translate(7.2 209.024933)scale(0.1 -0.1)\">\r\n       <use xlink:href=\"#DejaVuSans-50\"/>\r\n       <use x=\"63.623047\" xlink:href=\"#DejaVuSans-53\"/>\r\n      </g>\r\n     </g>\r\n    </g>\r\n   </g>\r\n   <g id=\"patch_3\">\r\n    <path d=\"M 26.925 224.64 \r\nL 26.925 7.2 \r\n\" style=\"fill:none;stroke:#000000;stroke-linecap:square;stroke-linejoin:miter;stroke-width:0.8;\"/>\r\n   </g>\r\n   <g id=\"patch_4\">\r\n    <path d=\"M 244.365 224.64 \r\nL 244.365 7.2 \r\n\" style=\"fill:none;stroke:#000000;stroke-linecap:square;stroke-linejoin:miter;stroke-width:0.8;\"/>\r\n   </g>\r\n   <g id=\"patch_5\">\r\n    <path d=\"M 26.925 224.64 \r\nL 244.365 224.64 \r\n\" style=\"fill:none;stroke:#000000;stroke-linecap:square;stroke-linejoin:miter;stroke-width:0.8;\"/>\r\n   </g>\r\n   <g id=\"patch_6\">\r\n    <path d=\"M 26.925 7.2 \r\nL 244.365 7.2 \r\n\" style=\"fill:none;stroke:#000000;stroke-linecap:square;stroke-linejoin:miter;stroke-width:0.8;\"/>\r\n   </g>\r\n  </g>\r\n </g>\r\n <defs>\r\n  <clipPath id=\"pb5317f1786\">\r\n   <rect height=\"217.44\" width=\"217.44\" x=\"26.925\" y=\"7.2\"/>\r\n  </clipPath>\r\n </defs>\r\n</svg>\r\n",
      "image/png": "[encoded data removed]"
     },
     "metadata": {
      "needs_background": "light"
     }
    }
   ],
   "source": [
    "# Visualise some random images from the datset. Check the shape of tensors to get a better understanding of the dataset.\n",
    "x=train_dataset[25]\n",
    "x=x[0].numpy()\n",
    "x=x.reshape(28,28)\n",
    "plt.imshow(x)\n",
    "plt.show()\n",
    "#im show was not accepting tensor show 1X28X28 tensor is converted to 28 X 28 np.array "
   ]
  },
  {
   "cell_type": "code",
   "execution_count": 4,
   "metadata": {},
   "outputs": [],
   "source": [
    "# Define the network architecture(model) using a class.\n",
    "# Use conv2d layers, activation function after each such layer, use Batchnorm and Maxpooling. Play with these parameters,\n",
    "# layers and things like kernel size, stride etc and see how it affects your results.\n",
    "# Finally use a linear layer in the end\n",
    "# Define the forward pass\n",
    "class model(nn.Module):\n",
    "    #passing this class and class object to super class constructor\n",
    "    def __init__(self):\n",
    "        super(model,self).__init__()\n",
    "        self.layer1=nn.Sequential(\n",
    "            nn.Conv2d(1,32,kernel_size=5,stride=1,padding=2),\n",
    "            nn.ReLU(),\n",
    "            nn.MaxPool2d(kernel_size=2,stride=2))\n",
    "        # one image 32 different filters with 3 X 3 filter and stride of one and padding of 1\n",
    "        # 32 feature map are produced after the convolution\n",
    "        # relu is added to eliminatine linearity in the network\n",
    "        # max pooling to reduce the size and make model space in varient\n",
    "        # w_out=(w_in - F +2*p)/s +1\n",
    "        # and max pooling reduces size by (n/p X n/p)\n",
    "        self.layer2 = nn.Sequential(\n",
    "            nn.Conv2d(32, 64, kernel_size=5, stride=1, padding=2),\n",
    "            nn.ReLU(),\n",
    "            nn.MaxPool2d(kernel_size=2, stride=2))\n",
    "        self.drop_out = nn.Dropout()\n",
    "        # 7 X 7 image map is prooduced after 2 covolution layers and pooling and 64 usch feature maps are produced\n",
    "        # we are squassing this into a coloum vector and feeding them to a neural network\n",
    "        self.fc1 = nn.Linear(7 * 7 * 64, 1000)\n",
    "        self.fc2 = nn.Linear(1000, 10)\n",
    "    def forward(self, x):\n",
    "        out = self.layer1(x)\n",
    "        out = self.layer2(out)\n",
    "        out = out.reshape(out.size(0), -1)\n",
    "        out = self.drop_out(out)\n",
    "        out = self.fc1(out)\n",
    "        out = self.fc2(out)\n",
    "        return out"
   ]
  },
  {
   "cell_type": "code",
   "execution_count": 5,
   "metadata": {},
   "outputs": [
    {
     "output_type": "stream",
     "name": "stdout",
     "text": "Epoch [1/6], Step [100/600], Loss: 0.1093, Accuracy: 98.00%\nEpoch [1/6], Step [200/600], Loss: 0.1343, Accuracy: 96.00%\nEpoch [1/6], Step [300/600], Loss: 0.1687, Accuracy: 93.00%\nEpoch [1/6], Step [400/600], Loss: 0.0850, Accuracy: 97.00%\nEpoch [1/6], Step [500/600], Loss: 0.1932, Accuracy: 95.00%\nEpoch [1/6], Step [600/600], Loss: 0.0198, Accuracy: 99.00%\nEpoch [2/6], Step [100/600], Loss: 0.0470, Accuracy: 97.00%\nEpoch [2/6], Step [200/600], Loss: 0.0611, Accuracy: 98.00%\nEpoch [2/6], Step [300/600], Loss: 0.0512, Accuracy: 98.00%\nEpoch [2/6], Step [400/600], Loss: 0.0989, Accuracy: 96.00%\nEpoch [2/6], Step [500/600], Loss: 0.0146, Accuracy: 100.00%\nEpoch [2/6], Step [600/600], Loss: 0.0970, Accuracy: 97.00%\nEpoch [3/6], Step [100/600], Loss: 0.0715, Accuracy: 97.00%\nEpoch [3/6], Step [200/600], Loss: 0.0171, Accuracy: 100.00%\nEpoch [3/6], Step [300/600], Loss: 0.0128, Accuracy: 100.00%\nEpoch [3/6], Step [400/600], Loss: 0.1129, Accuracy: 97.00%\nEpoch [3/6], Step [500/600], Loss: 0.0507, Accuracy: 99.00%\nEpoch [3/6], Step [600/600], Loss: 0.0118, Accuracy: 100.00%\nEpoch [4/6], Step [100/600], Loss: 0.0280, Accuracy: 99.00%\nEpoch [4/6], Step [200/600], Loss: 0.0219, Accuracy: 99.00%\nEpoch [4/6], Step [300/600], Loss: 0.0213, Accuracy: 99.00%\nEpoch [4/6], Step [400/600], Loss: 0.0074, Accuracy: 100.00%\nEpoch [4/6], Step [500/600], Loss: 0.0130, Accuracy: 100.00%\nEpoch [4/6], Step [600/600], Loss: 0.0185, Accuracy: 100.00%\nEpoch [5/6], Step [100/600], Loss: 0.0073, Accuracy: 100.00%\nEpoch [5/6], Step [200/600], Loss: 0.0094, Accuracy: 100.00%\nEpoch [5/6], Step [300/600], Loss: 0.0428, Accuracy: 98.00%\nEpoch [5/6], Step [400/600], Loss: 0.0081, Accuracy: 100.00%\nEpoch [5/6], Step [500/600], Loss: 0.0716, Accuracy: 95.00%\nEpoch [5/6], Step [600/600], Loss: 0.0426, Accuracy: 98.00%\nEpoch [6/6], Step [100/600], Loss: 0.0446, Accuracy: 97.00%\nEpoch [6/6], Step [200/600], Loss: 0.0362, Accuracy: 98.00%\nEpoch [6/6], Step [300/600], Loss: 0.1082, Accuracy: 99.00%\nEpoch [6/6], Step [400/600], Loss: 0.0078, Accuracy: 100.00%\nEpoch [6/6], Step [500/600], Loss: 0.0836, Accuracy: 98.00%\nEpoch [6/6], Step [600/600], Loss: 0.0555, Accuracy: 96.00%\n"
    }
   ],
   "source": [
    "# Define training the model\n",
    "    my_model=model()\n",
    "    # defining the optimizer\n",
    "    loss_function=nn.CrossEntropyLoss() # this loss function is to estimate loss during multi class classification\n",
    "    # defining the loss function\n",
    "    optimizer=torch.optim.Adam(my_model.parameters(),lr=alpha)\n",
    "    loss_list=[]\n",
    "    acc_list=[]\n",
    "    total_step=len(train_loader)\n",
    "    for epoch in range(epochs):\n",
    "        for i,(image,labels) in enumerate(train_loader):\n",
    "            #forward function makes all operations on image which are loaded in the constructor\n",
    "            output=my_model.forward(image)\n",
    "            loss=loss_function(output,labels)\n",
    "            loss_list.append(loss.item())\n",
    "            #back propagate the error\n",
    "            optimizer.zero_grad()\n",
    "            loss.backward() \n",
    "            # as in torch nn module all paramneter required_grad is set to true so gradient are                                     # calculated and back propagated \n",
    "            optimizer.step()\n",
    "            #accuracy\n",
    "            total = labels.size(0)\n",
    "            _, predicted = torch.max(output.data, 1)\n",
    "            correct = (predicted == labels).sum().item()\n",
    "            acc_list.append(correct / total)\n",
    "            if (i + 1) % 100 == 0:\n",
    "                print('Epoch [{}/{}], Step [{}/{}], Loss: {:.4f}, Accuracy: {:.2f}%'\n",
    "                    .format(epoch + 1, epochs, i + 1, total_step, loss.item(),\n",
    "                            (correct / total) * 100))\n"
   ]
  },
  {
   "cell_type": "code",
   "execution_count": 12,
   "metadata": {
    "tags": [
     "outputPrepend",
     "outputPrepend",
     "outputPrepend",
     "outputPrepend",
     "outputPrepend"
    ]
   },
   "outputs": [
    {
     "output_type": "stream",
     "name": "stdout",
     "text": "Test Accuracy of the model on the 10000 test images: 100.0 %\nTest Accuracy of the model on the 10000 test images: 99.5 %\nTest Accuracy of the model on the 10000 test images: 99.33333333333333 %\nTest Accuracy of the model on the 10000 test images: 99.0 %\nTest Accuracy of the model on the 10000 test images: 98.8 %\nTest Accuracy of the model on the 10000 test images: 98.83333333333333 %\nTest Accuracy of the model on the 10000 test images: 98.71428571428571 %\nTest Accuracy of the model on the 10000 test images: 98.75 %\nTest Accuracy of the model on the 10000 test images: 98.77777777777777 %\nTest Accuracy of the model on the 10000 test images: 98.8 %\nTest Accuracy of the model on the 10000 test images: 98.63636363636363 %\nTest Accuracy of the model on the 10000 test images: 98.66666666666667 %\nTest Accuracy of the model on the 10000 test images: 98.38461538461539 %\nTest Accuracy of the model on the 10000 test images: 98.42857142857143 %\nTest Accuracy of the model on the 10000 test images: 98.53333333333333 %\nTest Accuracy of the model on the 10000 test images: 98.625 %\nTest Accuracy of the model on the 10000 test images: 98.6470588235294 %\nTest Accuracy of the model on the 10000 test images: 98.66666666666667 %\nTest Accuracy of the model on the 10000 test images: 98.68421052631578 %\nTest Accuracy of the model on the 10000 test images: 98.7 %\nTest Accuracy of the model on the 10000 test images: 98.61904761904762 %\nTest Accuracy of the model on the 10000 test images: 98.5 %\nTest Accuracy of the model on the 10000 test images: 98.52173913043478 %\nTest Accuracy of the model on the 10000 test images: 98.54166666666667 %\nTest Accuracy of the model on the 10000 test images: 98.48 %\nTest Accuracy of the model on the 10000 test images: 98.46153846153847 %\nTest Accuracy of the model on the 10000 test images: 98.48148148148148 %\nTest Accuracy of the model on the 10000 test images: 98.53571428571428 %\nTest Accuracy of the model on the 10000 test images: 98.55172413793103 %\nTest Accuracy of the model on the 10000 test images: 98.5 %\nTest Accuracy of the model on the 10000 test images: 98.54838709677419 %\nTest Accuracy of the model on the 10000 test images: 98.59375 %\nTest Accuracy of the model on the 10000 test images: 98.63636363636363 %\nTest Accuracy of the model on the 10000 test images: 98.6470588235294 %\nTest Accuracy of the model on the 10000 test images: 98.6 %\nTest Accuracy of the model on the 10000 test images: 98.52777777777779 %\nTest Accuracy of the model on the 10000 test images: 98.56756756756756 %\nTest Accuracy of the model on the 10000 test images: 98.55263157894737 %\nTest Accuracy of the model on the 10000 test images: 98.53846153846155 %\nTest Accuracy of the model on the 10000 test images: 98.55000000000001 %\nTest Accuracy of the model on the 10000 test images: 98.5609756097561 %\nTest Accuracy of the model on the 10000 test images: 98.57142857142858 %\nTest Accuracy of the model on the 10000 test images: 98.55813953488372 %\nTest Accuracy of the model on the 10000 test images: 98.54545454545455 %\nTest Accuracy of the model on the 10000 test images: 98.53333333333333 %\nTest Accuracy of the model on the 10000 test images: 98.54347826086956 %\nTest Accuracy of the model on the 10000 test images: 98.55319148936171 %\nTest Accuracy of the model on the 10000 test images: 98.5625 %\nTest Accuracy of the model on the 10000 test images: 98.51020408163265 %\nTest Accuracy of the model on the 10000 test images: 98.54 %\nTest Accuracy of the model on the 10000 test images: 98.54901960784314 %\nTest Accuracy of the model on the 10000 test images: 98.5576923076923 %\nTest Accuracy of the model on the 10000 test images: 98.58490566037736 %\nTest Accuracy of the model on the 10000 test images: 98.61111111111111 %\nTest Accuracy of the model on the 10000 test images: 98.63636363636363 %\nTest Accuracy of the model on the 10000 test images: 98.66071428571429 %\nTest Accuracy of the model on the 10000 test images: 98.68421052631578 %\nTest Accuracy of the model on the 10000 test images: 98.70689655172413 %\nTest Accuracy of the model on the 10000 test images: 98.72881355932203 %\nTest Accuracy of the model on the 10000 test images: 98.68333333333334 %\nTest Accuracy of the model on the 10000 test images: 98.70491803278688 %\nTest Accuracy of the model on the 10000 test images: 98.72580645161291 %\nTest Accuracy of the model on the 10000 test images: 98.74603174603175 %\nTest Accuracy of the model on the 10000 test images: 98.765625 %\nTest Accuracy of the model on the 10000 test images: 98.78461538461538 %\nTest Accuracy of the model on the 10000 test images: 98.74242424242425 %\nTest Accuracy of the model on the 10000 test images: 98.73134328358208 %\nTest Accuracy of the model on the 10000 test images: 98.75 %\nTest Accuracy of the model on the 10000 test images: 98.76811594202898 %\nTest Accuracy of the model on the 10000 test images: 98.78571428571429 %\nTest Accuracy of the model on the 10000 test images: 98.80281690140845 %\nTest Accuracy of the model on the 10000 test images: 98.81944444444444 %\nTest Accuracy of the model on the 10000 test images: 98.83561643835617 %\nTest Accuracy of the model on the 10000 test images: 98.85135135135134 %\nTest Accuracy of the model on the 10000 test images: 98.85333333333334 %\nTest Accuracy of the model on the 10000 test images: 98.85526315789474 %\nTest Accuracy of the model on the 10000 test images: 98.87012987012987 %\nTest Accuracy of the model on the 10000 test images: 98.88461538461539 %\nTest Accuracy of the model on the 10000 test images: 98.89873417721519 %\nTest Accuracy of the model on the 10000 test images: 98.91250000000001 %\nTest Accuracy of the model on the 10000 test images: 98.87654320987654 %\nTest Accuracy of the model on the 10000 test images: 98.89024390243902 %\nTest Accuracy of the model on the 10000 test images: 98.90361445783132 %\nTest Accuracy of the model on the 10000 test images: 98.89285714285714 %\nTest Accuracy of the model on the 10000 test images: 98.89411764705882 %\nTest Accuracy of the model on the 10000 test images: 98.89534883720931 %\nTest Accuracy of the model on the 10000 test images: 98.9080459770115 %\nTest Accuracy of the model on the 10000 test images: 98.92045454545455 %\nTest Accuracy of the model on the 10000 test images: 98.93258426966293 %\nTest Accuracy of the model on the 10000 test images: 98.94444444444444 %\nTest Accuracy of the model on the 10000 test images: 98.91208791208791 %\nTest Accuracy of the model on the 10000 test images: 98.92391304347827 %\nTest Accuracy of the model on the 10000 test images: 98.93548387096774 %\nTest Accuracy of the model on the 10000 test images: 98.94680851063829 %\nTest Accuracy of the model on the 10000 test images: 98.9578947368421 %\nTest Accuracy of the model on the 10000 test images: 98.96875 %\nTest Accuracy of the model on the 10000 test images: 98.94845360824742 %\nTest Accuracy of the model on the 10000 test images: 98.92857142857143 %\nTest Accuracy of the model on the 10000 test images: 98.93939393939394 %\nTest Accuracy of the model on the 10000 test images: 98.94 %\n"
    }
   ],
   "source": [
    "     \n",
    "# Evaluate model on test set. This is done in the same way as for training but only till calculating output.\n",
    "# Then,convert output from tensor to numpy format.\n",
    "# convert to class labels\n",
    "# store the predictions\n",
    "# calculate accuracy of model\n",
    "# Try to improve accuracy by changing parameters, optimizer, loss functions, epochs etc\n",
    "# and explain your observations in a text file in the Github repository.\n",
    "\n",
    "#this disables droup outs and batch normalization layers and directly predict outputs\n",
    "my_model.eval()\n",
    "with torch.no_grad(): # these operation are not involved in gradient tracking\n",
    "    correct=0\n",
    "    total=0\n",
    "    i=0\n",
    "    for images,labels in test_loader:\n",
    "        output=my_model.forward(images)\n",
    "        _,predict=torch.max(output.data,1)# we are taing output.data so as to avoid taking gradient of that process\n",
    "        total+=labels.size(0)\n",
    "        correct+=(predict==labels).sum().item()\n",
    "        print('Test Accuracy of the model on the 10000 test images: {} %'.format((correct / total) * 100))\n",
    "\n",
    "# Save the model and plot\n",
    "torch.save(my_model.state_dict(), MODEL_STORE_PATH + 'conv_net_model.ckpt')\n",
    "\n",
    "\n",
    "\n"
   ]
  },
  {
   "cell_type": "markdown",
   "metadata": {},
   "source": [
    "  \n",
    "  Try to improve accuracy by changing parameters, optimizer, loss functions, epochs etc\n",
    "  and explain your observations in a text file in the Github repository.\n",
    "  "
   ]
  },
  {
   "cell_type": "code",
   "execution_count": 1,
   "metadata": {},
   "outputs": [],
   "source": [
    "# check predictions by printing the output image for random test inputs.\n",
    "\n",
    "        "
   ]
  },
  {
   "cell_type": "code",
   "execution_count": null,
   "metadata": {},
   "outputs": [],
   "source": []
  }
 ],
 "metadata": {
  "kernelspec": {
   "display_name": "Python 3.6.7 64-bit",
   "language": "python",
   "name": "python36764bit24da9d3e7fa74dc8be33d2383068f4bb"
  },
  "language_info": {
   "codemirror_mode": {
    "name": "ipython",
    "version": 3
   },
   "file_extension": ".py",
   "mimetype": "text/x-python",
   "name": "python",
   "nbconvert_exporter": "python",
   "pygments_lexer": "ipython3",
   "version": "3.6.7-final"
  }
 },
 "nbformat": 4,
 "nbformat_minor": 2
}