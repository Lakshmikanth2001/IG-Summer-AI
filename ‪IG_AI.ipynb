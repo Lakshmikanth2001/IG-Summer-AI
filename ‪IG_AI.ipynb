{
 "cells": [
  {
   "cell_type": "code",
   "execution_count": 1,
   "metadata": {},
   "outputs": [
    {
     "name": "stdout",
     "output_type": "stream",
     "text": [
      "              num_orders\n",
      "category                \n",
      "Beverages       40480525\n",
      "Biryani           631848\n",
      "Desert           1940754\n",
      "Extras           3984979\n",
      "Fish              871959\n",
      "Other Snacks     4766293\n",
      "Pasta            1637744\n",
      "Pizza            7383720\n",
      "Rice Bowl       20874063\n",
      "Salad           10944336\n",
      "Sandwich        17636782\n",
      "Seafood          2715714\n",
      "Soup             1039646\n",
      "Starters         4649122\n",
      "hellow\n"
     ]
    },
    {
     "data": {
      "text/plain": [
       "<Figure size 640x480 with 1 Axes>"
      ]
     },
     "metadata": {},
     "output_type": "display_data"
    }
   ],
   "source": [
    "'''Note: \n",
    "\n",
    "* Before writing any code remember that this assigment is for helping you understand the basics of file\n",
    "handling in csv file. \n",
    "\n",
    "* This project is designed to have a work flow such that everyone is in same page for this purpose the variables are\n",
    "given a strict name which should not be changed or modified according to your convinience\n",
    "\n",
    "* Few of new functions like .head() .xticks().... and concepts may have been introduced in the assingment, so we encourage you\n",
    "all to go through them without skipping.\n",
    "\n",
    "*  functions which are to be used in the Your code sections are globally available so try to look for those where you have been prompted\n",
    "'''\n",
    "\n",
    "'''Its the data of a meal delivery company which operates in multiple cities. \n",
    "They have various fulfillment centers in these cities for dispatching meal orders to their customers.\n",
    "train.csv: Historical data of demand for a product-center combination \n",
    "fulfilment_center_info.csv: Information for fulfillment center like center area, city information etc.\n",
    "meal_info.csv: Product(Meal) features such as category, sub-category, current price and discount'''\n",
    "\n",
    "\n",
    "'''START CODE'''\n",
    "\n",
    "#Import necessary libraries: Numpy,pandas,matplotlib\n",
    "\n",
    "'''************************Your code here**********************'''\n",
    "import numpy as np #numpy c arrays \n",
    "import pandas as pd # to load dataframs \n",
    "import matplotlib.pyplot as plt # to plot the bar graph\n",
    "from scipy import stats\n",
    "'''************************************************************'''\n",
    "\n",
    "\n",
    "#read meal_info.csv file from provided dataset into a df_meal named variable\n",
    "#Note: Proper file directory should be provided\n",
    "#in vscode I have saved the csv files in same directory as .py file\n",
    "'''************************Your code here**********************'''\n",
    "#df_meal=pd.read_csv('meal_info.csv')\n",
    "df_meal_info=pd.read_csv('C:\\\\Users\\\\intel\\\\Desktop\\\\IG_AI\\\\meal_info.csv')\n",
    "'''************************************************************'''\n",
    "\n",
    "#print(df_meal.head())\n",
    "\n",
    "#read fulfilment_center_info.csv file from provided dataset\n",
    "#Note: Proper file directory should be provided\n",
    "\n",
    "'''************************Your code here**********************'''\n",
    "#df_center=pd.read_csv('fulfilment_center_info.csv')\n",
    "df_center=pd.read_csv('C:\\\\Users\\\\intel\\\\Desktop\\\\IG_AI\\\\fulfilment_center_info.csv')\n",
    "'''************************************************************'''\n",
    "\n",
    "#print(df_center.head())\n",
    "\n",
    "#read train.csv file from provided dataset\n",
    "#Note: Proper file directory should be provided\n",
    "\n",
    "'''************************Your code here**********************'''\n",
    "#df_food=pd.read_csv('train.csv')\n",
    "df_food=pd.read_csv('C:\\\\Users\\\\intel\\\\Desktop\\\\IG_AI\\\\train.csv')\n",
    "'''************************************************************'''\n",
    "\n",
    "\n",
    "#print(df_food.head())\n",
    "\n",
    "'''Since the provided information is in different files, your work here is to merge them.Look for the functions\n",
    "in pandas library to do so'''\n",
    "#pd.merge merges all the three data frames into one\n",
    "'''************************Your code here**********************'''\n",
    "df=pd.merge(df_center,df_food,on='center_id')\n",
    "df=pd.merge(df,df_meal_info,on='meal_id')\n",
    "'''************************************************************'''\n",
    "'''Here we have used pd.pivot_table() kindly go through the function and mention in comment what it does'''\n",
    "#here pd.pivot_tabel makes index='category' as pivot element all other values and attributes are\n",
    "#listed with respect to that index element\n",
    "#for suppose\n",
    "# bat centuries player_name\n",
    "# MRF 10        VIRAT KHOLI\n",
    "# Gray_Nicolas 20 FINCH\n",
    "# CEAT      30    ROHIT\n",
    "#if index =centuries\n",
    "#index 10 20 30\n",
    "#MRF   \n",
    "#Gray_nicholas\n",
    "#CEAT\n",
    "tabel = pd.pivot_table(data=df,index='category',values='num_orders',aggfunc=np.sum)\n",
    "print(tabel)\n",
    "'''Graph tweaking\n",
    "************************\n",
    "Plot a bar graph with title 'Most popular food' for category(x-axis) vs number-of-orders(y-axis)\n",
    "\n",
    "give x label 'Food items'\n",
    "give y label 'Quantity sold'\n",
    "\n",
    "\n",
    "\n",
    "\n",
    "************Yourcode*********************\n",
    "'''\n",
    "x=tabel.index\n",
    "y=tabel['num_orders'].get_values()\n",
    "#bar graph\n",
    "plt.bar(x,y)\n",
    "\n",
    "#xticks \n",
    "plt.xticks(rotation=70)\n",
    "#this function givens labels to each bars\n",
    "\n",
    "#x-axis labels\n",
    "plt.xlabel('Food items')\n",
    "#y-axis labels \n",
    "plt.ylabel('Quantity sold')\n",
    "\n",
    "#plot title \n",
    "plt.title('Most popular food')\n",
    "#save plot\n",
    "print('hellow')\n",
    "#display \n",
    "plt.show()\n",
    "\n",
    "\n",
    "\n"
   ]
  },
  {
   "cell_type": "code",
   "execution_count": 2,
   "metadata": {},
   "outputs": [],
   "source": [
    "import pandas as pd #importing pandas for data frames\n",
    "import numpy as np #import numpy for c arrays\n",
    "import matplotlib.pyplot as plt #for plotting bar graph"
   ]
  },
  {
   "cell_type": "code",
   "execution_count": 3,
   "metadata": {},
   "outputs": [],
   "source": [
    "df_food=pd.read_csv('C:\\\\Users\\\\intel\\\\Desktop\\\\IG_AI\\\\train.csv')\n",
    "df_meal_info=pd.read_csv('C:\\\\Users\\\\intel\\\\Desktop\\\\IG_AI\\\\meal_info.csv')\n",
    "df_center=pd.read_csv('C:\\\\Users\\\\intel\\\\Desktop\\\\IG_AI\\\\fulfilment_center_info.csv')"
   ]
  },
  {
   "cell_type": "code",
   "execution_count": 4,
   "metadata": {},
   "outputs": [
    {
     "data": {
      "text/html": [
       "<div>\n",
       "<style scoped>\n",
       "    .dataframe tbody tr th:only-of-type {\n",
       "        vertical-align: middle;\n",
       "    }\n",
       "\n",
       "    .dataframe tbody tr th {\n",
       "        vertical-align: top;\n",
       "    }\n",
       "\n",
       "    .dataframe thead th {\n",
       "        text-align: right;\n",
       "    }\n",
       "</style>\n",
       "<table border=\"1\" class=\"dataframe\">\n",
       "  <thead>\n",
       "    <tr style=\"text-align: right;\">\n",
       "      <th></th>\n",
       "      <th>meal_id</th>\n",
       "      <th>category</th>\n",
       "      <th>cuisine</th>\n",
       "    </tr>\n",
       "  </thead>\n",
       "  <tbody>\n",
       "    <tr>\n",
       "      <th>0</th>\n",
       "      <td>1885</td>\n",
       "      <td>Beverages</td>\n",
       "      <td>Thai</td>\n",
       "    </tr>\n",
       "    <tr>\n",
       "      <th>1</th>\n",
       "      <td>1993</td>\n",
       "      <td>Beverages</td>\n",
       "      <td>Thai</td>\n",
       "    </tr>\n",
       "    <tr>\n",
       "      <th>2</th>\n",
       "      <td>2539</td>\n",
       "      <td>Beverages</td>\n",
       "      <td>Thai</td>\n",
       "    </tr>\n",
       "    <tr>\n",
       "      <th>3</th>\n",
       "      <td>1248</td>\n",
       "      <td>Beverages</td>\n",
       "      <td>Indian</td>\n",
       "    </tr>\n",
       "    <tr>\n",
       "      <th>4</th>\n",
       "      <td>2631</td>\n",
       "      <td>Beverages</td>\n",
       "      <td>Indian</td>\n",
       "    </tr>\n",
       "  </tbody>\n",
       "</table>\n",
       "</div>"
      ],
      "text/plain": [
       "   meal_id   category cuisine\n",
       "0     1885  Beverages    Thai\n",
       "1     1993  Beverages    Thai\n",
       "2     2539  Beverages    Thai\n",
       "3     1248  Beverages  Indian\n",
       "4     2631  Beverages  Indian"
      ]
     },
     "execution_count": 4,
     "metadata": {},
     "output_type": "execute_result"
    }
   ],
   "source": [
    "df_meal_info.head()"
   ]
  },
  {
   "cell_type": "code",
   "execution_count": 5,
   "metadata": {},
   "outputs": [
    {
     "data": {
      "text/html": [
       "<div>\n",
       "<style scoped>\n",
       "    .dataframe tbody tr th:only-of-type {\n",
       "        vertical-align: middle;\n",
       "    }\n",
       "\n",
       "    .dataframe tbody tr th {\n",
       "        vertical-align: top;\n",
       "    }\n",
       "\n",
       "    .dataframe thead th {\n",
       "        text-align: right;\n",
       "    }\n",
       "</style>\n",
       "<table border=\"1\" class=\"dataframe\">\n",
       "  <thead>\n",
       "    <tr style=\"text-align: right;\">\n",
       "      <th></th>\n",
       "      <th>center_id</th>\n",
       "      <th>city_code</th>\n",
       "      <th>region_code</th>\n",
       "      <th>center_type</th>\n",
       "      <th>op_area</th>\n",
       "    </tr>\n",
       "  </thead>\n",
       "  <tbody>\n",
       "    <tr>\n",
       "      <th>0</th>\n",
       "      <td>11</td>\n",
       "      <td>679</td>\n",
       "      <td>56</td>\n",
       "      <td>TYPE_A</td>\n",
       "      <td>3.7</td>\n",
       "    </tr>\n",
       "    <tr>\n",
       "      <th>1</th>\n",
       "      <td>13</td>\n",
       "      <td>590</td>\n",
       "      <td>56</td>\n",
       "      <td>TYPE_B</td>\n",
       "      <td>6.7</td>\n",
       "    </tr>\n",
       "    <tr>\n",
       "      <th>2</th>\n",
       "      <td>124</td>\n",
       "      <td>590</td>\n",
       "      <td>56</td>\n",
       "      <td>TYPE_C</td>\n",
       "      <td>4.0</td>\n",
       "    </tr>\n",
       "    <tr>\n",
       "      <th>3</th>\n",
       "      <td>66</td>\n",
       "      <td>648</td>\n",
       "      <td>34</td>\n",
       "      <td>TYPE_A</td>\n",
       "      <td>4.1</td>\n",
       "    </tr>\n",
       "    <tr>\n",
       "      <th>4</th>\n",
       "      <td>94</td>\n",
       "      <td>632</td>\n",
       "      <td>34</td>\n",
       "      <td>TYPE_C</td>\n",
       "      <td>3.6</td>\n",
       "    </tr>\n",
       "  </tbody>\n",
       "</table>\n",
       "</div>"
      ],
      "text/plain": [
       "   center_id  city_code  region_code center_type  op_area\n",
       "0         11        679           56      TYPE_A      3.7\n",
       "1         13        590           56      TYPE_B      6.7\n",
       "2        124        590           56      TYPE_C      4.0\n",
       "3         66        648           34      TYPE_A      4.1\n",
       "4         94        632           34      TYPE_C      3.6"
      ]
     },
     "execution_count": 5,
     "metadata": {},
     "output_type": "execute_result"
    }
   ],
   "source": [
    "df_center.head()"
   ]
  },
  {
   "cell_type": "code",
   "execution_count": 6,
   "metadata": {},
   "outputs": [
    {
     "data": {
      "text/html": [
       "<div>\n",
       "<style scoped>\n",
       "    .dataframe tbody tr th:only-of-type {\n",
       "        vertical-align: middle;\n",
       "    }\n",
       "\n",
       "    .dataframe tbody tr th {\n",
       "        vertical-align: top;\n",
       "    }\n",
       "\n",
       "    .dataframe thead th {\n",
       "        text-align: right;\n",
       "    }\n",
       "</style>\n",
       "<table border=\"1\" class=\"dataframe\">\n",
       "  <thead>\n",
       "    <tr style=\"text-align: right;\">\n",
       "      <th></th>\n",
       "      <th>id</th>\n",
       "      <th>week</th>\n",
       "      <th>center_id</th>\n",
       "      <th>meal_id</th>\n",
       "      <th>checkout_price</th>\n",
       "      <th>base_price</th>\n",
       "      <th>emailer_for_promotion</th>\n",
       "      <th>homepage_featured</th>\n",
       "      <th>num_orders</th>\n",
       "    </tr>\n",
       "  </thead>\n",
       "  <tbody>\n",
       "    <tr>\n",
       "      <th>0</th>\n",
       "      <td>1379560</td>\n",
       "      <td>1</td>\n",
       "      <td>55</td>\n",
       "      <td>1885</td>\n",
       "      <td>136.83</td>\n",
       "      <td>152.29</td>\n",
       "      <td>0</td>\n",
       "      <td>0</td>\n",
       "      <td>177</td>\n",
       "    </tr>\n",
       "    <tr>\n",
       "      <th>1</th>\n",
       "      <td>1466964</td>\n",
       "      <td>1</td>\n",
       "      <td>55</td>\n",
       "      <td>1993</td>\n",
       "      <td>136.83</td>\n",
       "      <td>135.83</td>\n",
       "      <td>0</td>\n",
       "      <td>0</td>\n",
       "      <td>270</td>\n",
       "    </tr>\n",
       "    <tr>\n",
       "      <th>2</th>\n",
       "      <td>1346989</td>\n",
       "      <td>1</td>\n",
       "      <td>55</td>\n",
       "      <td>2539</td>\n",
       "      <td>134.86</td>\n",
       "      <td>135.86</td>\n",
       "      <td>0</td>\n",
       "      <td>0</td>\n",
       "      <td>189</td>\n",
       "    </tr>\n",
       "    <tr>\n",
       "      <th>3</th>\n",
       "      <td>1338232</td>\n",
       "      <td>1</td>\n",
       "      <td>55</td>\n",
       "      <td>2139</td>\n",
       "      <td>339.50</td>\n",
       "      <td>437.53</td>\n",
       "      <td>0</td>\n",
       "      <td>0</td>\n",
       "      <td>54</td>\n",
       "    </tr>\n",
       "    <tr>\n",
       "      <th>4</th>\n",
       "      <td>1448490</td>\n",
       "      <td>1</td>\n",
       "      <td>55</td>\n",
       "      <td>2631</td>\n",
       "      <td>243.50</td>\n",
       "      <td>242.50</td>\n",
       "      <td>0</td>\n",
       "      <td>0</td>\n",
       "      <td>40</td>\n",
       "    </tr>\n",
       "  </tbody>\n",
       "</table>\n",
       "</div>"
      ],
      "text/plain": [
       "        id  week  center_id  meal_id  checkout_price  base_price  \\\n",
       "0  1379560     1         55     1885          136.83      152.29   \n",
       "1  1466964     1         55     1993          136.83      135.83   \n",
       "2  1346989     1         55     2539          134.86      135.86   \n",
       "3  1338232     1         55     2139          339.50      437.53   \n",
       "4  1448490     1         55     2631          243.50      242.50   \n",
       "\n",
       "   emailer_for_promotion  homepage_featured  num_orders  \n",
       "0                      0                  0         177  \n",
       "1                      0                  0         270  \n",
       "2                      0                  0         189  \n",
       "3                      0                  0          54  \n",
       "4                      0                  0          40  "
      ]
     },
     "execution_count": 6,
     "metadata": {},
     "output_type": "execute_result"
    }
   ],
   "source": [
    "df_food.head()"
   ]
  },
  {
   "cell_type": "code",
   "execution_count": 7,
   "metadata": {},
   "outputs": [],
   "source": [
    "'''Since the provided information is in different files, your work here is to merge them.Look for the functions\n",
    "in pandas library to do so'''\n",
    "#pd.merge concatinates all the three data frames into one\n",
    "#i wanted to apply my own hash function but failed to do so\n",
    "df=pd.merge(df_center,df_food,on='center_id')\n",
    "df=pd.merge(df,df_meal_info,on='meal_id')"
   ]
  },
  {
   "cell_type": "code",
   "execution_count": 8,
   "metadata": {},
   "outputs": [],
   "source": [
    "#Here we have used pd.pivot_table() kindly go through the function and mention in comment what it does'''\n",
    "#here pd.pivot_tabel makes index='category' as pivot element all other values and attributes are\n",
    "#listed with respect to that index element\n",
    "#for suppose\n",
    "# bat centuries player_name\n",
    "# MRF 10        VIRAT KHOLI\n",
    "# Gray_Nicolas 20 FINCH\n",
    "# CEAT      30    ROHIT\n",
    "#if index =centuries\n",
    "#index 10 20 30\n",
    "#MRF   \n",
    "#Gray_nicholas\n",
    "#CEAT\n",
    "tabel = pd.pivot_table(data=df,index='category',values='num_orders',aggfunc=np.sum)"
   ]
  },
  {
   "cell_type": "code",
   "execution_count": 14,
   "metadata": {},
   "outputs": [],
   "source": [
    "tabel['num_orders'].get_values() #getting count each atribute\n",
    "x=tabel['num_orders'].index #getting index of of the tabel\n",
    "y=tabel['num_orders'].get_values()#getting count of the food items"
   ]
  },
  {
   "cell_type": "code",
   "execution_count": 15,
   "metadata": {},
   "outputs": [
    {
     "name": "stdout",
     "output_type": "stream",
     "text": [
      "hellow\n"
     ]
    },
    {
     "data": {
      "image/png": "[encoded data removed]",
      "text/plain": [
       "<Figure size 432x288 with 1 Axes>"
      ]
     },
     "metadata": {
      "needs_background": "light"
     },
     "output_type": "display_data"
    }
   ],
   "source": [
    "plt.bar(x,y)\n",
    "#\n",
    "plt.xticks(rotation=70)\n",
    "#this function givens labels to each bars\n",
    "\n",
    "#x-axis labels\n",
    "plt.xlabel('Food items')\n",
    "#y-axis labels \n",
    "plt.ylabel('Quantity sold')\n",
    "\n",
    "#plot title \n",
    "plt.title('Most popular food')\n",
    "#save plot\n",
    "plt.savefig('bar_graph.png')\n",
    "print('hellow')\n",
    "#display \n",
    "plt.show()"
   ]
  },
  {
   "cell_type": "code",
   "execution_count": 16,
   "metadata": {},
   "outputs": [],
   "source": [
    "rate=df_food['checkout_price']\n",
    "orders=df_food['num_orders']\n",
    "revenue=rate*orders\n",
    "weeks=df_food['week']\n",
    "week_dict=dict()\n",
    "month_dict=dict()\n",
    "for i in range(max(weeks)+1): #find out max number of keys and assign key value tp zeros\n",
    "    week_dict[i]=0\n",
    "    month_dict[i//4]=0\n",
    "for i in range(len(weeks)):\n",
    "    week_dict[weeks[i]]=week_dict[weeks[i]]+revenue[i]\n",
    "    month_dict[weeks[i]//4]+=revenue[i]"
   ]
  },
  {
   "cell_type": "code",
   "execution_count": 17,
   "metadata": {},
   "outputs": [
    {
     "data": {
      "image/png": "[encoded data removed]",
      "text/plain": [
       "<Figure size 432x288 with 1 Axes>"
      ]
     },
     "metadata": {
      "needs_background": "light"
     },
     "output_type": "display_data"
    }
   ],
   "source": [
    "x=list(week_dict.keys())\n",
    "y=list(week_dict.values())\n",
    "plt.plot(x,y)\n",
    "plt.xticks(rotation=70)\n",
    "plt.xlabel('weeks')\n",
    "plt.ylabel('revenue')\n",
    "plt.title('weekly income')\n",
    "plt.savefig('week_graph.png')\n",
    "plt.show()"
   ]
  },
  {
   "cell_type": "code",
   "execution_count": 18,
   "metadata": {},
   "outputs": [
    {
     "data": {
      "image/png": "[encoded data removed]",
      "text/plain": [
       "<Figure size 432x288 with 1 Axes>"
      ]
     },
     "metadata": {
      "needs_background": "light"
     },
     "output_type": "display_data"
    }
   ],
   "source": [
    "x=list(month_dict.keys())\n",
    "y=list(month_dict.values())\n",
    "plt.plot(x,y)\n",
    "plt.xticks(rotation=70)\n",
    "plt.xlabel('months')\n",
    "plt.ylabel('revenue')\n",
    "plt.title('Monthly Revenue')\n",
    "plt.savefig('monthly_graph.png')\n",
    "plt.show()"
   ]
  },
  {
   "cell_type": "code",
   "execution_count": null,
   "metadata": {},
   "outputs": [],
   "source": []
  }
 ],
 "metadata": {
  "kernelspec": {
   "display_name": "Python 3",
   "language": "python",
   "name": "python3"
  },
  "language_info": {
   "codemirror_mode": {
    "name": "ipython",
    "version": 3
   },
   "file_extension": ".py",
   "mimetype": "text/x-python",
   "name": "python",
   "nbconvert_exporter": "python",
   "pygments_lexer": "ipython3",
   "version": "3.7.1"
  }
 },
 "nbformat": 4,
 "nbformat_minor": 2
}
