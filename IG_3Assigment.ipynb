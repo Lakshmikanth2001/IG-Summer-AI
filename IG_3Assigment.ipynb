{
 "cells": [
  {
   "cell_type": "code",
   "execution_count": 1,
   "metadata": {},
   "outputs": [],
   "source": [
    "import numpy as np\n",
    "import tensorflow as tf\n",
    "import matplotlib.pyplot as plt\n",
    "import seaborn as sns\n",
    "import pandas as pd\n",
    "%matplotlib inline\n",
    "sns.set(style='whitegrid')"
   ]
  },
  {
   "cell_type": "code",
   "execution_count": 2,
   "metadata": {},
   "outputs": [
    {
     "data": {
      "text/html": [
       "<div>\n",
       "<style scoped>\n",
       "    .dataframe tbody tr th:only-of-type {\n",
       "        vertical-align: middle;\n",
       "    }\n",
       "\n",
       "    .dataframe tbody tr th {\n",
       "        vertical-align: top;\n",
       "    }\n",
       "\n",
       "    .dataframe thead th {\n",
       "        text-align: right;\n",
       "    }\n",
       "</style>\n",
       "<table border=\"1\" class=\"dataframe\">\n",
       "  <thead>\n",
       "    <tr style=\"text-align: right;\">\n",
       "      <th></th>\n",
       "      <th>sepal_length</th>\n",
       "      <th>sepal_width</th>\n",
       "      <th>petal_length</th>\n",
       "      <th>petal_width</th>\n",
       "      <th>species</th>\n",
       "    </tr>\n",
       "  </thead>\n",
       "  <tbody>\n",
       "    <tr>\n",
       "      <td>0</td>\n",
       "      <td>5.1</td>\n",
       "      <td>3.5</td>\n",
       "      <td>1.4</td>\n",
       "      <td>0.2</td>\n",
       "      <td>setosa</td>\n",
       "    </tr>\n",
       "    <tr>\n",
       "      <td>1</td>\n",
       "      <td>4.9</td>\n",
       "      <td>3.0</td>\n",
       "      <td>1.4</td>\n",
       "      <td>0.2</td>\n",
       "      <td>setosa</td>\n",
       "    </tr>\n",
       "    <tr>\n",
       "      <td>2</td>\n",
       "      <td>4.7</td>\n",
       "      <td>3.2</td>\n",
       "      <td>1.3</td>\n",
       "      <td>0.2</td>\n",
       "      <td>setosa</td>\n",
       "    </tr>\n",
       "    <tr>\n",
       "      <td>3</td>\n",
       "      <td>4.6</td>\n",
       "      <td>3.1</td>\n",
       "      <td>1.5</td>\n",
       "      <td>0.2</td>\n",
       "      <td>setosa</td>\n",
       "    </tr>\n",
       "    <tr>\n",
       "      <td>4</td>\n",
       "      <td>5.0</td>\n",
       "      <td>3.6</td>\n",
       "      <td>1.4</td>\n",
       "      <td>0.2</td>\n",
       "      <td>setosa</td>\n",
       "    </tr>\n",
       "  </tbody>\n",
       "</table>\n",
       "</div>"
      ],
      "text/plain": [
       "   sepal_length  sepal_width  petal_length  petal_width species\n",
       "0           5.1          3.5           1.4          0.2  setosa\n",
       "1           4.9          3.0           1.4          0.2  setosa\n",
       "2           4.7          3.2           1.3          0.2  setosa\n",
       "3           4.6          3.1           1.5          0.2  setosa\n",
       "4           5.0          3.6           1.4          0.2  setosa"
      ]
     },
     "execution_count": 2,
     "metadata": {},
     "output_type": "execute_result"
    }
   ],
   "source": [
    "Iris=pd.read_csv(\"C:\\\\Users\\\\intel\\\\Desktop\\\\IG_AI\\\\iris.csv\")\n",
    "Iris.head()"
   ]
  },
  {
   "cell_type": "code",
   "execution_count": 3,
   "metadata": {},
   "outputs": [
    {
     "data": {
      "text/plain": [
       "(150, 5)"
      ]
     },
     "execution_count": 3,
     "metadata": {},
     "output_type": "execute_result"
    }
   ],
   "source": [
    "Iris.shape"
   ]
  },
  {
   "cell_type": "code",
   "execution_count": 4,
   "metadata": {},
   "outputs": [
    {
     "data": {
      "image/png": "[encoded data removed]",
      "text/plain": [
       "<Figure size 432x288 with 1 Axes>"
      ]
     },
     "metadata": {},
     "output_type": "display_data"
    }
   ],
   "source": [
    "#visualization of given dataset\n",
    "#codesegment4------------------\n",
    "#As the data is sorted upto 50 Irissetosa are present\n",
    "#from 50 to 100 Iris versicolor flowers are present\n",
    "plt.scatter(Iris['sepal_length'][0:50],Iris['sepal_width'][0:50],\n",
    "         label='Irissetosa',color='b')\n",
    "plt.scatter(Iris['sepal_length'][50:100],Iris['sepal_width'][50:100],\n",
    "           label='Irisversicolor',color='#FFA500')\n",
    "plt.xlabel('Sepal_length')\n",
    "plt.ylabel('Sepal_width')\n",
    "plt.legend(loc='best')\n",
    "plt.title(\"Iris plot\")\n",
    "plt.show()"
   ]
  },
  {
   "cell_type": "code",
   "execution_count": 64,
   "metadata": {},
   "outputs": [],
   "source": [
    "#this mean drop the labels coloum and output all other values\n",
    "X = Iris.drop(labels=['species'], axis=1).values #feature matrix\n",
    "Y = Iris.species.values #output\n",
    "from sklearn.preprocessing import LabelEncoder\n",
    "Encoder = LabelEncoder()\n",
    "Y=Encoder.fit_transform(Y)"
   ]
  },
  {
   "cell_type": "code",
   "execution_count": 65,
   "metadata": {},
   "outputs": [],
   "source": [
    "def make_set(A):\n",
    "    S=set()\n",
    "    for i in range(np.size(A,0)):\n",
    "        for j in range(np.size(A,1)):\n",
    "            S.add(A[i][j])\n",
    "    return S"
   ]
  },
  {
   "cell_type": "code",
   "execution_count": 66,
   "metadata": {},
   "outputs": [],
   "source": [
    "'''Step 3: Split data\n",
    "trainset: 80%\n",
    "testset: 20%'''\n",
    "# set seed for numpy and tensorflow\n",
    "np.random.seed(seed=5)\n",
    "# set for reproducible results\n",
    "seed = 5\n",
    "#line5-------------\n",
    "X=X[0:100][:]\n",
    "dataset_size=np.size(X,0)\n",
    "train_size=int(dataset_size*0.8)\n",
    "train_index=np.random.randint(0,100,train_size)\n",
    "#line6-------------\n",
    "#randomnly select 80% of the indices under variable train_index and rest under test_index\n",
    "#line7-----------------------------------------------\n",
    "test_index = np.array(list(set(range(len(X))) - set(train_index)))\n",
    "test_index = np.array(list(set(range(len(X))) - set(train_index)))"
   ]
  },
  {
   "cell_type": "code",
   "execution_count": 67,
   "metadata": {},
   "outputs": [],
   "source": [
    "train_X = X[train_index]\n",
    "train_y = Y[train_index]\n",
    "test_X = X[test_index]\n",
    "test_y = Y[test_index]"
   ]
  },
  {
   "cell_type": "code",
   "execution_count": 68,
   "metadata": {},
   "outputs": [],
   "source": [
    "# Define the min-max normalization function\n",
    "# we are using here min-max normalisation, helpful to bring down every values in all the feature columns of the dataset to common scale \n",
    "#codesegment8-----------------\n",
    "def min_max_normalized(data):\n",
    "    data_min=min(data)\n",
    "    data_max=max(data)\n",
    "    Data=(data-data_min)/(data_max-data_min)\n",
    "    return Data"
   ]
  },
  {
   "cell_type": "code",
   "execution_count": 69,
   "metadata": {},
   "outputs": [],
   "source": [
    "# Begin building the model framework\n",
    "# Declare the variables that need to be learned and initialization\n",
    "# There are 4 features here, so W's dimension is (4, 1)\n",
    "#line9---------------------------- #weights\n",
    "w = tf.Variable(tf.random_normal(shape=[4, 1],seed=0))\n",
    "b = tf.Variable(tf.random_normal(shape=[1, 1],seed=0)) #bias\n",
    "#constructor for random initialization\n",
    "#line10"
   ]
  },
  {
   "cell_type": "code",
   "execution_count": 70,
   "metadata": {},
   "outputs": [],
   "source": [
    "# Define placeholders\n",
    "data = tf.placeholder(dtype=tf.float32, shape=[None, 4])\n",
    "#comment on the difference between tf.placeholder and tf.variable-----\n",
    "#tf.placeholder is a node in computational graph where we first build the node\n",
    "#to specify the size and togology of the data and then give it numerical values\n",
    "#tf.varialbe is an dataentity with can change its values and assgined at any point\n",
    "#of time\n",
    "target = tf.placeholder(dtype=tf.float32, shape=[None, 1])"
   ]
  },
  {
   "cell_type": "code",
   "execution_count": 71,
   "metadata": {},
   "outputs": [],
   "source": [
    "# Declare the 'model' you need to learn\n",
    "#line11-------------------------------------------\n",
    "mod=tf.add(tf.matmul(data,w),b)"
   ]
  },
  {
   "cell_type": "code",
   "execution_count": 72,
   "metadata": {},
   "outputs": [],
   "source": [
    "# Declare loss function\n",
    "# Use the sigmoid cross-entropy loss function,\n",
    "# first doing a sigmoid on the model \n",
    "#result and then using the cross-entropy loss function\n",
    "loss = tf.reduce_mean(tf.nn.sigmoid_cross_entropy_with_logits(logits=mod, \n",
    "                                                              labels=target))"
   ]
  },
  {
   "cell_type": "code",
   "execution_count": 137,
   "metadata": {},
   "outputs": [],
   "source": [
    "# Define the learning rate， batch_size and number of iterations.\n",
    "#learning_rate\n",
    "'''The rate at which the graident descents is know as learning rate'''\n",
    "'''i.e rate at which function value move to local optimum(max or min)'''\n",
    "learning_rate=pow(10,-2)\n",
    "#line12--------------------------------\n",
    "#batch_size----\n",
    "batch_size=10\n",
    "''' The size of data which is used to caliculate the mean error and then \n",
    "backpropagate the error is know as batch_size'''\n",
    "'''in gradient base optimizations we have 3 type of methods \n",
    "1.batch_traning size=whole data set size\n",
    "2.Mini_batch traning= optimal size\n",
    "3.Stochaticated Gradient= single sized'''\n",
    "#using batch makes the training ------?\n",
    "'''faster'''\n",
    "#line13--------------------------------\n",
    "iter_num=1000\n",
    "#iter_num"
   ]
  },
  {
   "cell_type": "code",
   "execution_count": 138,
   "metadata": {},
   "outputs": [],
   "source": [
    "# Define the optimizer with name opt\n",
    "#line14-----------------------------\n",
    "# Define the goal\n",
    "opt=tf.compat.v1.train.GradientDescentOptimizer(learning_rate=learning_rate)\n",
    "goal = opt.minimize(loss)"
   ]
  },
  {
   "cell_type": "code",
   "execution_count": 139,
   "metadata": {},
   "outputs": [],
   "source": [
    "# Define the accuracy\n",
    "# The default threshold is 0.5, rounded off directly\n",
    "prediction = tf.round(tf.sigmoid(mod))\n",
    "# Bool into float32 type\n",
    "correct = tf.cast(tf.equal(prediction, target), dtype=tf.float32)\n",
    "# Average\n",
    "accuracy = tf.reduce_mean(correct)\n",
    "# End of the definition of the model framework"
   ]
  },
  {
   "cell_type": "code",
   "execution_count": 140,
   "metadata": {},
   "outputs": [],
   "source": [
    "# Start training model\n",
    "# Define the variable that stores the result\n",
    "loss_trace = []\n",
    "train_acc = []\n",
    "test_acc=[]"
   ]
  },
  {
   "cell_type": "code",
   "execution_count": 141,
   "metadata": {},
   "outputs": [],
   "source": [
    "init=tf.global_variables_initializer()\n",
    "sess = tf.Session()\n",
    "sess.run(init)"
   ]
  },
  {
   "cell_type": "code",
   "execution_count": 142,
   "metadata": {},
   "outputs": [
    {
     "name": "stdout",
     "output_type": "stream",
     "text": [
      "epoch:  100 loss: 0.567381 train_acc: 0.733333 test_acc: 0.666667\n",
      "epoch:  200 loss: 0.416554 train_acc: 0.933333 test_acc: 1.000000\n",
      "epoch:  300 loss: 0.249559 train_acc: 1.000000 test_acc: 1.000000\n",
      "epoch:  400 loss: 0.211868 train_acc: 1.000000 test_acc: 1.000000\n",
      "epoch:  500 loss: 0.133442 train_acc: 1.000000 test_acc: 1.000000\n",
      "epoch:  600 loss: 0.108169 train_acc: 1.000000 test_acc: 1.000000\n",
      "epoch:  700 loss: 0.115290 train_acc: 1.000000 test_acc: 1.000000\n",
      "epoch:  800 loss: 0.080931 train_acc: 1.000000 test_acc: 1.000000\n",
      "epoch:  900 loss: 0.073999 train_acc: 1.000000 test_acc: 1.000000\n",
      "epoch: 1000 loss: 0.065799 train_acc: 1.000000 test_acc: 1.000000\n",
      "The test accuracy is: 1.000000\n"
     ]
    }
   ],
   "source": [
    "# training model using mini-batch gradient descent\n",
    "for epoch in range(iter_num):\n",
    "    # Generate random batch_index\n",
    "    #line15------------------------------ #randomnly picks up up 30 sample data\n",
    "    batch_index=np.random.randint(0,80,30)\n",
    "    batch_train_X = train_X[batch_index]\n",
    "    batch_train_y = np.matrix(train_y[batch_index]).T\n",
    "    batch_index=np.random.randint(0,44,30)\n",
    "    batch_test_X =test_X[batch_index]\n",
    "    batch_test_y = np.matrix(test_y[batch_index]).T\n",
    "    sess.run(goal, feed_dict={data: batch_train_X, target: batch_train_y})\n",
    "    temp_loss = sess.run(loss, feed_dict={data: batch_train_X, target: batch_train_y})\n",
    "    temp_train_acc = sess.run(accuracy,feed_dict={data:batch_train_X,target:batch_train_y})\n",
    "    temp_test_acc = sess.run(accuracy,feed_dict={data:batch_test_X,target:batch_test_y})\n",
    "    loss_trace.append(temp_loss)\n",
    "    train_acc.append(temp_train_acc)\n",
    "    test_acc.append(temp_test_acc)\n",
    "    if (epoch + 1) % 100 == 0:\n",
    "        print('epoch: {:4d} loss: {:5f} train_acc: {:5f} test_acc: {:5f}'.format(epoch + 1, temp_loss,\n",
    "                                                            temp_train_acc, temp_test_acc))\n",
    "print(\"The test accuracy is: {:5f}\".format(temp_test_acc))"
   ]
  },
  {
   "cell_type": "code",
   "execution_count": 144,
   "metadata": {},
   "outputs": [
    {
     "data": {
      "image/png": "[encoded data removed]",
      "text/plain": [
       "<Figure size 432x288 with 1 Axes>"
      ]
     },
     "metadata": {},
     "output_type": "display_data"
    }
   ],
   "source": [
    "# Visualization of the results\n",
    "# loss function\n",
    "#codesegment19------------------------\n",
    "x=range(0,iter_num)\n",
    "plt.plot(x,loss_trace,color='b')\n",
    "plt.xlabel('epochs')\n",
    "plt.ylabel('Loss')\n",
    "plt.title('Cross Entropy Loss')\n",
    "plt.show()"
   ]
  },
  {
   "cell_type": "code",
   "execution_count": 146,
   "metadata": {},
   "outputs": [
    {
     "data": {
      "image/png": "[encoded data removed]",
      "text/plain": [
       "<Figure size 432x288 with 1 Axes>"
      ]
     },
     "metadata": {},
     "output_type": "display_data"
    }
   ],
   "source": [
    "# plot for training accuracy\n",
    "#codesegment20---------------------------\n",
    "plt.plot(x,train_acc,color='b')\n",
    "plt.xlabel('epochs')\n",
    "plt.ylabel('accuracy')\n",
    "plt.title(\"Train accuracy\")\n",
    "plt.show()"
   ]
  },
  {
   "cell_type": "code",
   "execution_count": null,
   "metadata": {},
   "outputs": [],
   "source": []
  }
 ],
 "metadata": {
  "kernelspec": {
   "display_name": "Python 3.6.7 64-bit",
   "language": "python",
   "name": "python36764bit24da9d3e7fa74dc8be33d2383068f4bb"
  },
  "language_info": {
   "codemirror_mode": {
    "name": "ipython",
    "version": 3
   },
   "file_extension": ".py",
   "mimetype": "text/x-python",
   "name": "python",
   "nbconvert_exporter": "python",
   "pygments_lexer": "ipython3",
   "version": "3.6.7"
  }
 },
 "nbformat": 4,
 "nbformat_minor": 2
}
